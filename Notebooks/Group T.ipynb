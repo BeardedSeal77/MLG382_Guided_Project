{
 "cells": [
  {
   "cell_type": "markdown",
   "id": "b67c0930",
   "metadata": {},
   "source": [
    "# --------------------------------------------------------\n",
    "## 1. 📌 Problem Statement\n",
    "*waldo*\n",
    "\n",
    "What are we solving and why?"
   ]
  },
  {
   "cell_type": "markdown",
   "id": "20f692ad",
   "metadata": {},
   "source": [
    "BrightPath Academy faces some challenges that cause them to not be able to fully support each student such as:\n",
    "\n",
    "- **Delayed identification of At-Risk Students:** BrightPath does not have access to a system that gives them real-time insights to the students who are struggling academically so they are not able to intervene in time.\n",
    "\n",
    "- **No individual support strategies:** Educators don't have access to a tool that are able to identify the reason for why exactly a specific student is struggling.\n",
    "\n",
    "- **Unknown effect of Extracurricular activities:** At BrightPath extracurricular involvement is encourage but educators are now unsure if extracurricular activities are the cause of poor academic performance. They want to identify whether this is the cause for poor academic performance.\n",
    "\n",
    "- **No centralized system for actionable insights:** BrightPath has access to a lot of student data but no system that has the ability to analyze and understand the data."
   ]
  },
  {
   "cell_type": "markdown",
   "id": "b099b3c7",
   "metadata": {},
   "source": [
    "# --------------------------------------------------------\n",
    "## 2. 💡 Hypothesis Generation\n",
    "*waldo*\n",
    "\n",
    "What do we think is going on in the data?"
   ]
  },
  {
   "cell_type": "markdown",
   "id": "7de4da78",
   "metadata": {},
   "source": [
    "The following hypotheses will guide our data exploration and modeling:\n",
    "\n",
    "1. **Study Time and GradeClass**: There is a negative correlation between weekly study time (**StudyTimeWeekly**) and **GradeClass**, for example students who study more hours per week tend to have better grade classifications (lower GradeClass values, e.g., 'A' or 'B').\n",
    "\n",
    "2. **Absences and GradeClass**: There is a positive correlation between the number of absences (**Absences**) and **GradeClass**, indicating that students with more absences are likely to have weaker grade classifications (higher GradeClass values, e.g., 'D' or 'F').\n",
    "\n",
    "3. **Tutoring and GradeClass**: Tutoring status (**Tutoring**) is associated with **GradeClass** though it is difficult to know to what extent as the level of quality of the tutoring is not known, thus this will be explored further in the data analysis phase. \n",
    "\n",
    "4. **Parental Support and GradeClass**: There is a negative correlation between the level of parental support (**ParentalSupport**) and **GradeClass**, suggesting that higher parental support is linked to better grade classifications.\n",
    "\n",
    "5. **Extracurricular Activities and GradeClass**: Participation in extracurricular activities (**Extracurricular**) is associated with better **GradeClass**, thus showing a positive impact of these activities on academic performance.\n",
    "\n",
    "6. **Ethnicity and GradeClass**: There are significant differences in **GradeClass** distributions across different ethnicity groups (**Ethnicity**).\n",
    "\n",
    "7. **Gender and GradeClass**: There are differences in **GradeClass** between male and female students (**Gender**).\n",
    "\n",
    "8. **Parental Education and GradeClass**: There is a negative correlation between parental education level (**ParentalEducation**) and **GradeClass**, indicating that students with parents who have higher education levels are more likely to have better grade classifications.\n",
    "\n",
    "These hypotheses will be tested and refined during the data analysis phase to uncover key factors influencing student performance, with a  focus on the role of extracurricular activities as mentioned in the problem statement"
   ]
  },
  {
   "cell_type": "markdown",
   "id": "255ae484",
   "metadata": {},
   "source": [
    "# --------------------------------------------------------\n",
    "## 3. ⚙️ Setting up the System"
   ]
  },
  {
   "cell_type": "code",
   "execution_count": 22,
   "id": "01397e00",
   "metadata": {},
   "outputs": [],
   "source": [
    "#Libraries\n",
    "import pandas as pd\n",
    "import matplotlib.pyplot as plt\n",
    "import seaborn as sns\n",
    "import numpy as np\n",
    "from sklearn.preprocessing import StandardScaler\n",
    "from sklearn.model_selection import train_test_split, GridSearchCV\n",
    "from sklearn.ensemble import RandomForestClassifier\n",
    "from sklearn.metrics import classification_report, confusion_matrix, accuracy_score\n",
    "\n",
    "\n",
    "#Loading dataset\n",
    "df = pd.read_csv('../data/Student_performance_data .csv')"
   ]
  },
  {
   "cell_type": "markdown",
   "id": "0f6f6bc8",
   "metadata": {},
   "source": [
    "# --------------------------------------------------------\n",
    "## 4. 🔍 Data Understanding\n",
    "*tristan*\n",
    "\n",
    "- **Setting up the System:** Importing libraries and loading data.\n",
    "\n",
    "- **Data Inspection:** We already know the target feature is GradeClass.\n",
    "\n",
    "    1. **Preview:** Gives an understanding of the dataset structure (names and general characteristics).\n",
    "\n",
    "    2. **Information:** Provides overview of data types as well as total entries and columns.\n",
    "    \n",
    "    3. **Describe:** Shows a more detailed summary of each features statistics (mean, standard deviation, frequency counts, etc.)."
   ]
  },
  {
   "cell_type": "markdown",
   "id": "8f7b4b89",
   "metadata": {},
   "source": [
    "#### preview"
   ]
  },
  {
   "cell_type": "code",
   "execution_count": 12,
   "id": "145eda58",
   "metadata": {},
   "outputs": [
    {
     "data": {
      "text/html": [
       "<div>\n",
       "<style scoped>\n",
       "    .dataframe tbody tr th:only-of-type {\n",
       "        vertical-align: middle;\n",
       "    }\n",
       "\n",
       "    .dataframe tbody tr th {\n",
       "        vertical-align: top;\n",
       "    }\n",
       "\n",
       "    .dataframe thead th {\n",
       "        text-align: right;\n",
       "    }\n",
       "</style>\n",
       "<table border=\"1\" class=\"dataframe\">\n",
       "  <thead>\n",
       "    <tr style=\"text-align: right;\">\n",
       "      <th></th>\n",
       "      <th>StudentID</th>\n",
       "      <th>Age</th>\n",
       "      <th>Gender</th>\n",
       "      <th>Ethnicity</th>\n",
       "      <th>ParentalEducation</th>\n",
       "      <th>StudyTimeWeekly</th>\n",
       "      <th>Absences</th>\n",
       "      <th>Tutoring</th>\n",
       "      <th>ParentalSupport</th>\n",
       "      <th>Extracurricular</th>\n",
       "      <th>Sports</th>\n",
       "      <th>Music</th>\n",
       "      <th>Volunteering</th>\n",
       "      <th>GPA</th>\n",
       "      <th>GradeClass</th>\n",
       "    </tr>\n",
       "  </thead>\n",
       "  <tbody>\n",
       "    <tr>\n",
       "      <th>0</th>\n",
       "      <td>1001</td>\n",
       "      <td>17</td>\n",
       "      <td>1</td>\n",
       "      <td>0</td>\n",
       "      <td>2</td>\n",
       "      <td>19.833723</td>\n",
       "      <td>7</td>\n",
       "      <td>1</td>\n",
       "      <td>2</td>\n",
       "      <td>0</td>\n",
       "      <td>0</td>\n",
       "      <td>1</td>\n",
       "      <td>0</td>\n",
       "      <td>2.929196</td>\n",
       "      <td>2.0</td>\n",
       "    </tr>\n",
       "    <tr>\n",
       "      <th>1</th>\n",
       "      <td>1002</td>\n",
       "      <td>18</td>\n",
       "      <td>0</td>\n",
       "      <td>0</td>\n",
       "      <td>1</td>\n",
       "      <td>15.408756</td>\n",
       "      <td>0</td>\n",
       "      <td>0</td>\n",
       "      <td>1</td>\n",
       "      <td>0</td>\n",
       "      <td>0</td>\n",
       "      <td>0</td>\n",
       "      <td>0</td>\n",
       "      <td>3.042915</td>\n",
       "      <td>1.0</td>\n",
       "    </tr>\n",
       "    <tr>\n",
       "      <th>2</th>\n",
       "      <td>1003</td>\n",
       "      <td>15</td>\n",
       "      <td>0</td>\n",
       "      <td>2</td>\n",
       "      <td>3</td>\n",
       "      <td>4.210570</td>\n",
       "      <td>26</td>\n",
       "      <td>0</td>\n",
       "      <td>2</td>\n",
       "      <td>0</td>\n",
       "      <td>0</td>\n",
       "      <td>0</td>\n",
       "      <td>0</td>\n",
       "      <td>0.112602</td>\n",
       "      <td>4.0</td>\n",
       "    </tr>\n",
       "    <tr>\n",
       "      <th>3</th>\n",
       "      <td>1004</td>\n",
       "      <td>17</td>\n",
       "      <td>1</td>\n",
       "      <td>0</td>\n",
       "      <td>3</td>\n",
       "      <td>10.028829</td>\n",
       "      <td>14</td>\n",
       "      <td>0</td>\n",
       "      <td>3</td>\n",
       "      <td>1</td>\n",
       "      <td>0</td>\n",
       "      <td>0</td>\n",
       "      <td>0</td>\n",
       "      <td>2.054218</td>\n",
       "      <td>3.0</td>\n",
       "    </tr>\n",
       "    <tr>\n",
       "      <th>4</th>\n",
       "      <td>1005</td>\n",
       "      <td>17</td>\n",
       "      <td>1</td>\n",
       "      <td>0</td>\n",
       "      <td>2</td>\n",
       "      <td>4.672495</td>\n",
       "      <td>17</td>\n",
       "      <td>1</td>\n",
       "      <td>3</td>\n",
       "      <td>0</td>\n",
       "      <td>0</td>\n",
       "      <td>0</td>\n",
       "      <td>0</td>\n",
       "      <td>1.288061</td>\n",
       "      <td>4.0</td>\n",
       "    </tr>\n",
       "  </tbody>\n",
       "</table>\n",
       "</div>"
      ],
      "text/plain": [
       "   StudentID  Age  Gender  Ethnicity  ParentalEducation  StudyTimeWeekly  \\\n",
       "0       1001   17       1          0                  2        19.833723   \n",
       "1       1002   18       0          0                  1        15.408756   \n",
       "2       1003   15       0          2                  3         4.210570   \n",
       "3       1004   17       1          0                  3        10.028829   \n",
       "4       1005   17       1          0                  2         4.672495   \n",
       "\n",
       "   Absences  Tutoring  ParentalSupport  Extracurricular  Sports  Music  \\\n",
       "0         7         1                2                0       0      1   \n",
       "1         0         0                1                0       0      0   \n",
       "2        26         0                2                0       0      0   \n",
       "3        14         0                3                1       0      0   \n",
       "4        17         1                3                0       0      0   \n",
       "\n",
       "   Volunteering       GPA  GradeClass  \n",
       "0             0  2.929196         2.0  \n",
       "1             0  3.042915         1.0  \n",
       "2             0  0.112602         4.0  \n",
       "3             0  2.054218         3.0  \n",
       "4             0  1.288061         4.0  "
      ]
     },
     "execution_count": 12,
     "metadata": {},
     "output_type": "execute_result"
    }
   ],
   "source": [
    "df.head()"
   ]
  },
  {
   "cell_type": "markdown",
   "id": "05163a28",
   "metadata": {},
   "source": [
    "#### Data Info"
   ]
  },
  {
   "cell_type": "code",
   "execution_count": 13,
   "id": "d52b8315",
   "metadata": {},
   "outputs": [
    {
     "name": "stdout",
     "output_type": "stream",
     "text": [
      "<class 'pandas.core.frame.DataFrame'>\n",
      "RangeIndex: 2392 entries, 0 to 2391\n",
      "Data columns (total 15 columns):\n",
      " #   Column             Non-Null Count  Dtype  \n",
      "---  ------             --------------  -----  \n",
      " 0   StudentID          2392 non-null   int64  \n",
      " 1   Age                2392 non-null   int64  \n",
      " 2   Gender             2392 non-null   int64  \n",
      " 3   Ethnicity          2392 non-null   int64  \n",
      " 4   ParentalEducation  2392 non-null   int64  \n",
      " 5   StudyTimeWeekly    2392 non-null   float64\n",
      " 6   Absences           2392 non-null   int64  \n",
      " 7   Tutoring           2392 non-null   int64  \n",
      " 8   ParentalSupport    2392 non-null   int64  \n",
      " 9   Extracurricular    2392 non-null   int64  \n",
      " 10  Sports             2392 non-null   int64  \n",
      " 11  Music              2392 non-null   int64  \n",
      " 12  Volunteering       2392 non-null   int64  \n",
      " 13  GPA                2392 non-null   float64\n",
      " 14  GradeClass         2392 non-null   float64\n",
      "dtypes: float64(3), int64(12)\n",
      "memory usage: 280.4 KB\n"
     ]
    }
   ],
   "source": [
    "df.info()"
   ]
  },
  {
   "cell_type": "markdown",
   "id": "e1e0bab5",
   "metadata": {},
   "source": [
    "#### Describe the Data"
   ]
  },
  {
   "cell_type": "code",
   "execution_count": 14,
   "id": "fcf83f33",
   "metadata": {},
   "outputs": [
    {
     "data": {
      "text/html": [
       "<div>\n",
       "<style scoped>\n",
       "    .dataframe tbody tr th:only-of-type {\n",
       "        vertical-align: middle;\n",
       "    }\n",
       "\n",
       "    .dataframe tbody tr th {\n",
       "        vertical-align: top;\n",
       "    }\n",
       "\n",
       "    .dataframe thead th {\n",
       "        text-align: right;\n",
       "    }\n",
       "</style>\n",
       "<table border=\"1\" class=\"dataframe\">\n",
       "  <thead>\n",
       "    <tr style=\"text-align: right;\">\n",
       "      <th></th>\n",
       "      <th>StudentID</th>\n",
       "      <th>Age</th>\n",
       "      <th>Gender</th>\n",
       "      <th>Ethnicity</th>\n",
       "      <th>ParentalEducation</th>\n",
       "      <th>StudyTimeWeekly</th>\n",
       "      <th>Absences</th>\n",
       "      <th>Tutoring</th>\n",
       "      <th>ParentalSupport</th>\n",
       "      <th>Extracurricular</th>\n",
       "      <th>Sports</th>\n",
       "      <th>Music</th>\n",
       "      <th>Volunteering</th>\n",
       "      <th>GPA</th>\n",
       "      <th>GradeClass</th>\n",
       "    </tr>\n",
       "  </thead>\n",
       "  <tbody>\n",
       "    <tr>\n",
       "      <th>count</th>\n",
       "      <td>2392.000000</td>\n",
       "      <td>2392.000000</td>\n",
       "      <td>2392.000000</td>\n",
       "      <td>2392.000000</td>\n",
       "      <td>2392.000000</td>\n",
       "      <td>2392.000000</td>\n",
       "      <td>2392.000000</td>\n",
       "      <td>2392.000000</td>\n",
       "      <td>2392.000000</td>\n",
       "      <td>2392.000000</td>\n",
       "      <td>2392.000000</td>\n",
       "      <td>2392.000000</td>\n",
       "      <td>2392.000000</td>\n",
       "      <td>2392.000000</td>\n",
       "      <td>2392.000000</td>\n",
       "    </tr>\n",
       "    <tr>\n",
       "      <th>mean</th>\n",
       "      <td>2196.500000</td>\n",
       "      <td>16.468645</td>\n",
       "      <td>0.510870</td>\n",
       "      <td>0.877508</td>\n",
       "      <td>1.746237</td>\n",
       "      <td>9.771992</td>\n",
       "      <td>14.541388</td>\n",
       "      <td>0.301421</td>\n",
       "      <td>2.122074</td>\n",
       "      <td>0.383361</td>\n",
       "      <td>0.303512</td>\n",
       "      <td>0.196906</td>\n",
       "      <td>0.157191</td>\n",
       "      <td>1.906186</td>\n",
       "      <td>2.983696</td>\n",
       "    </tr>\n",
       "    <tr>\n",
       "      <th>std</th>\n",
       "      <td>690.655244</td>\n",
       "      <td>1.123798</td>\n",
       "      <td>0.499986</td>\n",
       "      <td>1.028476</td>\n",
       "      <td>1.000411</td>\n",
       "      <td>5.652774</td>\n",
       "      <td>8.467417</td>\n",
       "      <td>0.458971</td>\n",
       "      <td>1.122813</td>\n",
       "      <td>0.486307</td>\n",
       "      <td>0.459870</td>\n",
       "      <td>0.397744</td>\n",
       "      <td>0.364057</td>\n",
       "      <td>0.915156</td>\n",
       "      <td>1.233908</td>\n",
       "    </tr>\n",
       "    <tr>\n",
       "      <th>min</th>\n",
       "      <td>1001.000000</td>\n",
       "      <td>15.000000</td>\n",
       "      <td>0.000000</td>\n",
       "      <td>0.000000</td>\n",
       "      <td>0.000000</td>\n",
       "      <td>0.001057</td>\n",
       "      <td>0.000000</td>\n",
       "      <td>0.000000</td>\n",
       "      <td>0.000000</td>\n",
       "      <td>0.000000</td>\n",
       "      <td>0.000000</td>\n",
       "      <td>0.000000</td>\n",
       "      <td>0.000000</td>\n",
       "      <td>0.000000</td>\n",
       "      <td>0.000000</td>\n",
       "    </tr>\n",
       "    <tr>\n",
       "      <th>25%</th>\n",
       "      <td>1598.750000</td>\n",
       "      <td>15.000000</td>\n",
       "      <td>0.000000</td>\n",
       "      <td>0.000000</td>\n",
       "      <td>1.000000</td>\n",
       "      <td>5.043079</td>\n",
       "      <td>7.000000</td>\n",
       "      <td>0.000000</td>\n",
       "      <td>1.000000</td>\n",
       "      <td>0.000000</td>\n",
       "      <td>0.000000</td>\n",
       "      <td>0.000000</td>\n",
       "      <td>0.000000</td>\n",
       "      <td>1.174803</td>\n",
       "      <td>2.000000</td>\n",
       "    </tr>\n",
       "    <tr>\n",
       "      <th>50%</th>\n",
       "      <td>2196.500000</td>\n",
       "      <td>16.000000</td>\n",
       "      <td>1.000000</td>\n",
       "      <td>0.000000</td>\n",
       "      <td>2.000000</td>\n",
       "      <td>9.705363</td>\n",
       "      <td>15.000000</td>\n",
       "      <td>0.000000</td>\n",
       "      <td>2.000000</td>\n",
       "      <td>0.000000</td>\n",
       "      <td>0.000000</td>\n",
       "      <td>0.000000</td>\n",
       "      <td>0.000000</td>\n",
       "      <td>1.893393</td>\n",
       "      <td>4.000000</td>\n",
       "    </tr>\n",
       "    <tr>\n",
       "      <th>75%</th>\n",
       "      <td>2794.250000</td>\n",
       "      <td>17.000000</td>\n",
       "      <td>1.000000</td>\n",
       "      <td>2.000000</td>\n",
       "      <td>2.000000</td>\n",
       "      <td>14.408410</td>\n",
       "      <td>22.000000</td>\n",
       "      <td>1.000000</td>\n",
       "      <td>3.000000</td>\n",
       "      <td>1.000000</td>\n",
       "      <td>1.000000</td>\n",
       "      <td>0.000000</td>\n",
       "      <td>0.000000</td>\n",
       "      <td>2.622216</td>\n",
       "      <td>4.000000</td>\n",
       "    </tr>\n",
       "    <tr>\n",
       "      <th>max</th>\n",
       "      <td>3392.000000</td>\n",
       "      <td>18.000000</td>\n",
       "      <td>1.000000</td>\n",
       "      <td>3.000000</td>\n",
       "      <td>4.000000</td>\n",
       "      <td>19.978094</td>\n",
       "      <td>29.000000</td>\n",
       "      <td>1.000000</td>\n",
       "      <td>4.000000</td>\n",
       "      <td>1.000000</td>\n",
       "      <td>1.000000</td>\n",
       "      <td>1.000000</td>\n",
       "      <td>1.000000</td>\n",
       "      <td>4.000000</td>\n",
       "      <td>4.000000</td>\n",
       "    </tr>\n",
       "  </tbody>\n",
       "</table>\n",
       "</div>"
      ],
      "text/plain": [
       "         StudentID          Age       Gender    Ethnicity  ParentalEducation  \\\n",
       "count  2392.000000  2392.000000  2392.000000  2392.000000        2392.000000   \n",
       "mean   2196.500000    16.468645     0.510870     0.877508           1.746237   \n",
       "std     690.655244     1.123798     0.499986     1.028476           1.000411   \n",
       "min    1001.000000    15.000000     0.000000     0.000000           0.000000   \n",
       "25%    1598.750000    15.000000     0.000000     0.000000           1.000000   \n",
       "50%    2196.500000    16.000000     1.000000     0.000000           2.000000   \n",
       "75%    2794.250000    17.000000     1.000000     2.000000           2.000000   \n",
       "max    3392.000000    18.000000     1.000000     3.000000           4.000000   \n",
       "\n",
       "       StudyTimeWeekly     Absences     Tutoring  ParentalSupport  \\\n",
       "count      2392.000000  2392.000000  2392.000000      2392.000000   \n",
       "mean          9.771992    14.541388     0.301421         2.122074   \n",
       "std           5.652774     8.467417     0.458971         1.122813   \n",
       "min           0.001057     0.000000     0.000000         0.000000   \n",
       "25%           5.043079     7.000000     0.000000         1.000000   \n",
       "50%           9.705363    15.000000     0.000000         2.000000   \n",
       "75%          14.408410    22.000000     1.000000         3.000000   \n",
       "max          19.978094    29.000000     1.000000         4.000000   \n",
       "\n",
       "       Extracurricular       Sports        Music  Volunteering          GPA  \\\n",
       "count      2392.000000  2392.000000  2392.000000   2392.000000  2392.000000   \n",
       "mean          0.383361     0.303512     0.196906      0.157191     1.906186   \n",
       "std           0.486307     0.459870     0.397744      0.364057     0.915156   \n",
       "min           0.000000     0.000000     0.000000      0.000000     0.000000   \n",
       "25%           0.000000     0.000000     0.000000      0.000000     1.174803   \n",
       "50%           0.000000     0.000000     0.000000      0.000000     1.893393   \n",
       "75%           1.000000     1.000000     0.000000      0.000000     2.622216   \n",
       "max           1.000000     1.000000     1.000000      1.000000     4.000000   \n",
       "\n",
       "        GradeClass  \n",
       "count  2392.000000  \n",
       "mean      2.983696  \n",
       "std       1.233908  \n",
       "min       0.000000  \n",
       "25%       2.000000  \n",
       "50%       4.000000  \n",
       "75%       4.000000  \n",
       "max       4.000000  "
      ]
     },
     "execution_count": 14,
     "metadata": {},
     "output_type": "execute_result"
    }
   ],
   "source": [
    "df.describe()"
   ]
  },
  {
   "cell_type": "markdown",
   "id": "d7db2882",
   "metadata": {},
   "source": [
    "### Drawn Conclusions\n",
    "\n",
    "- **From this information we can gather:**\n",
    "\n",
    "    1. StudentID can be exluded as it has no effect on other data (it is an identifier).\n",
    "\n",
    "    2. Data is split up into *Categorical* (Ordinal/Binary) and *Numerical* (Discrete/Continuous):\n",
    "\n",
    "        - **Categorical:**\n",
    "\n",
    "            - **Ordinal:**\n",
    "                - Ethnicity\n",
    "                - ParentalEducation\n",
    "                - ParentalSupport\n",
    "                - GradeClass\n",
    "\n",
    "            - **Binary:**\n",
    "                - Gender\n",
    "                - Tutoring\n",
    "                - Extracurricular\n",
    "                - Sports\n",
    "                - Music\n",
    "                - Volunteering\n",
    "        \n",
    "        - **Numerical:**\n",
    "\n",
    "            - **Discrete**\n",
    "                - Age\n",
    "                - Absences\n",
    "\n",
    "            - **Continuous**\n",
    "                - StudyTimeWeekly\n",
    "                - GPA\n",
    "\n",
    "    3. Ensure there are no null values before using data.\n",
    "\n",
    "    4. Encoding may be necessary for some ordinal categorical data depending on the machine learning algorithms.\n"
   ]
  },
  {
   "cell_type": "markdown",
   "id": "ff0b23b1",
   "metadata": {},
   "source": [
    "# --------------------------------------------------------\n",
    "## 4. 📊 Exploratory Data Analysis\n",
    "*Brandon*\n"
   ]
  },
  {
   "cell_type": "markdown",
   "id": "2d988a99",
   "metadata": {},
   "source": [
    "### i. Univariate Analysis\n",
    "Look at individual features:"
   ]
  },
  {
   "cell_type": "code",
   "execution_count": 15,
   "id": "2417dcb8",
   "metadata": {},
   "outputs": [
    {
     "data": {
      "text/plain": [
       "<Axes: xlabel='Age', ylabel='Count'>"
      ]
     },
     "execution_count": 15,
     "metadata": {},
     "output_type": "execute_result"
    },
    {
     "data": {
      "image/png": "[encoded data removed]",
      "text/plain": [
       "<Figure size 640x480 with 1 Axes>"
      ]
     },
     "metadata": {},
     "output_type": "display_data"
    }
   ],
   "source": [
    "sns.histplot(df['Age'])\n",
    "sns.countplot(x='Gender', data=df)"
   ]
  },
  {
   "cell_type": "markdown",
   "id": "fcf3c422",
   "metadata": {},
   "source": [
    "### ii. Bivariate Analysis\n",
    "Explore relationships between features and the target:"
   ]
  },
  {
   "cell_type": "code",
   "execution_count": 16,
   "id": "bb0c4bf6",
   "metadata": {},
   "outputs": [
    {
     "data": {
      "text/plain": [
       "<Axes: xlabel='Age', ylabel='Count'>"
      ]
     },
     "execution_count": 16,
     "metadata": {},
     "output_type": "execute_result"
    },
    {
     "data": {
      "image/png": "[encoded data removed]",
      "text/plain": [
       "<Figure size 640x480 with 1 Axes>"
      ]
     },
     "metadata": {},
     "output_type": "display_data"
    }
   ],
   "source": [
    "sns.histplot(df['Age'])\n",
    "sns.countplot(x='Gender', data=df)"
   ]
  },
  {
   "cell_type": "markdown",
   "id": "ba739805",
   "metadata": {},
   "source": [
    "# --------------------------------------------------------\n",
    "## 6. 🧹 Missing Value and Outlier Treatment\n",
    "*Waldo*\n",
    "\n",
    "Clean the mess before modeling."
   ]
  },
  {
   "cell_type": "code",
   "execution_count": 18,
   "id": "97ff3843",
   "metadata": {},
   "outputs": [
    {
     "data": {
      "image/png": "[encoded data removed]",
      "text/plain": [
       "<Figure size 1000x600 with 1 Axes>"
      ]
     },
     "metadata": {},
     "output_type": "display_data"
    },
    {
     "name": "stdout",
     "output_type": "stream",
     "text": [
      "Column Age has 0 outliers.\n",
      "Column StudyTimeWeekly has 0 outliers.\n",
      "Column Absences has 0 outliers.\n",
      "Column GPA has 0 outliers.\n"
     ]
    },
    {
     "data": {
      "image/png": "[encoded data removed]",
      "text/plain": [
       "<Figure size 1000x600 with 1 Axes>"
      ]
     },
     "metadata": {},
     "output_type": "display_data"
    }
   ],
   "source": [
    "#Prev Other outlier treatment\n",
    "\n",
    "\n",
    "# Select numerical columns for box plots\n",
    "numeric_cols = ['Age', 'StudyTimeWeekly', 'Absences', 'GPA']\n",
    "\n",
    "#method to draw the box plot\n",
    "def draw_box_plot_fig(df):\n",
    "    plt.figure(figsize=(10, 6))\n",
    "    sns.boxplot(data=df[numeric_cols], orient='h')\n",
    "    plt.title('Box Plot: Numerical Col')\n",
    "    plt.tight_layout()\n",
    "    plt.show()\n",
    "\n",
    "draw_box_plot_fig(df)\n",
    "\n",
    "#Check for outliers\n",
    "for col in numeric_cols:\n",
    "    Q1 = df[col].quantile(0.25)\n",
    "    Q3 = df[col].quantile(0.75)\n",
    "    IQR = Q3 - Q1\n",
    "    lower_bound = Q1 - 1.5 * IQR\n",
    "    upper_bound = Q3 + 1.5 * IQR\n",
    "    outliers = df[(df[col] < lower_bound) | (df[col] > upper_bound)]\n",
    "    print(f\"Column {col} has {len(outliers)} outliers.\")\n",
    "\n",
    "features = ['Age','Gender','ParentalEducation', 'StudyTimeWeekly', 'Absences', 'Tutoring','ParentalSupport', 'Extracurricular','Sports','Music','Volunteering','GPA']\n",
    "fig, ax = plt.subplots(figsize=(10, 6))\n",
    "boxplot = df[features].boxplot(vert=False, ax=ax)  \n",
    "ax.set_title('Box Plot: Raw Data')\n",
    "plt.tight_layout()  \n",
    "plt.show()"
   ]
  },
  {
   "cell_type": "code",
   "execution_count": 21,
   "id": "1c414dea",
   "metadata": {},
   "outputs": [
    {
     "name": "stdout",
     "output_type": "stream",
     "text": [
      "Scaled data exported to 'Student_performance_prepped_data.csv'\n",
      "Sample of scaled data:\n",
      "         Age    Gender  ParentalEducation  StudyTimeWeekly  Absences  Tutoring  \\\n",
      "0  0.472919  0.978492           0.253711         1.780336 -0.890822  1.522371   \n",
      "1  1.362944 -1.021981          -0.746087         0.997376 -1.717694 -0.656870   \n",
      "2 -1.307132 -1.021981           1.253509        -0.984045  1.353542 -0.656870   \n",
      "3  0.472919  0.978492           1.253509         0.045445 -0.063951 -0.656870   \n",
      "4  0.472919  0.978492           0.253711        -0.902311  0.290422  1.522371   \n",
      "\n",
      "   ParentalSupport  Extracurricular    Sports     Music  Volunteering  \\\n",
      "0        -0.108744        -0.788476 -0.660132  2.019544     -0.431866   \n",
      "1        -0.999551        -0.788476 -0.660132 -0.495161     -0.431866   \n",
      "2        -0.108744        -0.788476 -0.660132 -0.495161     -0.431866   \n",
      "3         0.782063         1.268269 -0.660132 -0.495161     -0.431866   \n",
      "4         0.782063        -0.788476 -0.660132 -0.495161     -0.431866   \n",
      "\n",
      "        GPA  GradeClass  \n",
      "0  1.118086         2.0  \n",
      "1  1.242374         1.0  \n",
      "2 -1.960277         4.0  \n",
      "3  0.161790         3.0  \n",
      "4 -0.675573         4.0  \n"
     ]
    },
    {
     "data": {
      "image/png": "[encoded data removed]",
      "text/plain": [
       "<Figure size 1000x600 with 1 Axes>"
      ]
     },
     "metadata": {},
     "output_type": "display_data"
    }
   ],
   "source": [
    "# Assuming df is your DataFrame\n",
    "# Set the columns to use\n",
    "features = ['Age', 'Gender', 'ParentalEducation', 'StudyTimeWeekly', 'Absences', \n",
    "            'Tutoring', 'ParentalSupport', 'Extracurricular', 'Sports', \n",
    "            'Music', 'Volunteering', 'GPA']\n",
    "\n",
    "# Prepare features and target\n",
    "X = df[features]\n",
    "y = df['GradeClass']\n",
    "\n",
    "# Initialize the scaler\n",
    "scaler = StandardScaler()\n",
    "\n",
    "# Scale all feature columns\n",
    "X_scaled = pd.DataFrame(scaler.fit_transform(X), columns=features)\n",
    "\n",
    "# Combine scaled features with target\n",
    "scaled_data = pd.concat([X_scaled, y.rename('GradeClass').reset_index(drop=True)], axis=1)\n",
    "\n",
    "# Export to CSV\n",
    "scaled_data.to_csv('Student_performance_prepped_data.csv', index=False)\n",
    "print(\"Scaled data exported to 'Student_performance_prepped_data.csv'\")\n",
    "\n",
    "# Verify scaled data\n",
    "print(\"Sample of scaled data:\\n\", scaled_data.head())\n",
    "\n",
    "# Create a boxplot for all scaled feature columns\n",
    "fig, ax = plt.subplots(figsize=(10, 6))\n",
    "boxplot = X_scaled.boxplot(vert=False, ax=ax)\n",
    "ax.set_title('Box Plot: Scaled Data (All Features)')\n",
    "plt.tight_layout()\n",
    "plt.show()"
   ]
  },
  {
   "cell_type": "markdown",
   "id": "ccbab78a",
   "metadata": {},
   "source": [
    "# --------------------------------------------------------\n",
    "## 7. 🎯 Evaluation Metrics for Classification Problem\n",
    "*Erin*\n",
    "\n",
    "### How will we know if the model is good?\n",
    "We'll evaluate the trained models on a set \n",
    "\n",
    "Common classification metrics:\n",
    "-   Accuracy\n",
    "-   Precision\n",
    "-   Recall\n",
    "-   F1-score\n",
    "-   Confusion matrix"
   ]
  },
  {
   "cell_type": "markdown",
   "id": "9b7e7e09",
   "metadata": {},
   "source": [
    "# --------------------------------------------------------\n",
    "## 8. 🧠 Feature Engineering\n",
    "Make the data smarter"
   ]
  },
  {
   "cell_type": "markdown",
   "id": "b84d910d",
   "metadata": {},
   "source": [
    "<style type=\"text/css\">\n",
    "#T_9802c th {\n",
    "  background-color: #2a2a2e;\n",
    "  color: white;\n",
    "  text-align: center;\n",
    "}\n",
    "#T_9802c td {\n",
    "  text-align: center;\n",
    "}\n",
    "#T_9802c_row0_col0, #T_9802c_row0_col1, #T_9802c_row0_col2, #T_9802c_row0_col3, #T_9802c_row0_col4, #T_9802c_row1_col0, #T_9802c_row1_col1, #T_9802c_row1_col2, #T_9802c_row1_col3, #T_9802c_row1_col4, #T_9802c_row2_col0, #T_9802c_row2_col1, #T_9802c_row2_col2, #T_9802c_row2_col3, #T_9802c_row2_col4, #T_9802c_row3_col0, #T_9802c_row3_col1, #T_9802c_row3_col2, #T_9802c_row3_col3, #T_9802c_row3_col4, #T_9802c_row4_col0, #T_9802c_row4_col1, #T_9802c_row4_col2, #T_9802c_row4_col3, #T_9802c_row4_col4, #T_9802c_row5_col0, #T_9802c_row5_col1, #T_9802c_row5_col2, #T_9802c_row5_col3, #T_9802c_row5_col4 {\n",
    "  border: 1px solid gray;\n",
    "}\n",
    "</style>\n",
    "<table id=\"T_9802c\">\n",
    "  <caption>Compatibility of Feature Types with Selected ML Models</caption>\n",
    "  <thead>\n",
    "    <tr>\n",
    "      <th class=\"blank level0\" >&nbsp;</th>\n",
    "      <th id=\"T_9802c_level0_col0\" class=\"col_heading level0 col0\" >Feature Engineering Type</th>\n",
    "      <th id=\"T_9802c_level0_col1\" class=\"col_heading level0 col1\" >Logistic Regression</th>\n",
    "      <th id=\"T_9802c_level0_col2\" class=\"col_heading level0 col2\" >Random Forest</th>\n",
    "      <th id=\"T_9802c_level0_col3\" class=\"col_heading level0 col3\" >XGBoost</th>\n",
    "      <th id=\"T_9802c_level0_col4\" class=\"col_heading level0 col4\" >Deep Learning</th>\n",
    "    </tr>\n",
    "  </thead>\n",
    "  <tbody>\n",
    "    <tr>\n",
    "      <th id=\"T_9802c_level0_row0\" class=\"row_heading level0 row0\" >0</th>\n",
    "      <td id=\"T_9802c_row0_col0\" class=\"data row0 col0\" >Encoding Categorical Variables</td>\n",
    "      <td id=\"T_9802c_row0_col1\" class=\"data row0 col1\" >✅ Required</td>\n",
    "      <td id=\"T_9802c_row0_col2\" class=\"data row0 col2\" >✅ Optional</td>\n",
    "      <td id=\"T_9802c_row0_col3\" class=\"data row0 col3\" >✅ Optional</td>\n",
    "      <td id=\"T_9802c_row0_col4\" class=\"data row0 col4\" >✅ Required</td>\n",
    "    </tr>\n",
    "    <tr>\n",
    "      <th id=\"T_9802c_level0_row1\" class=\"row_heading level0 row1\" >1</th>\n",
    "      <td id=\"T_9802c_row1_col0\" class=\"data row1 col0\" >Scaling Numerical Features</td>\n",
    "      <td id=\"T_9802c_row1_col1\" class=\"data row1 col1\" >✅ Yes</td>\n",
    "      <td id=\"T_9802c_row1_col2\" class=\"data row1 col2\" >❌ Not needed</td>\n",
    "      <td id=\"T_9802c_row1_col3\" class=\"data row1 col3\" >❌ Not needed</td>\n",
    "      <td id=\"T_9802c_row1_col4\" class=\"data row1 col4\" >✅ Yes</td>\n",
    "    </tr>\n",
    "    <tr>\n",
    "      <th id=\"T_9802c_level0_row2\" class=\"row_heading level0 row2\" >2</th>\n",
    "      <td id=\"T_9802c_row2_col0\" class=\"data row2 col0\" >Interaction Features</td>\n",
    "      <td id=\"T_9802c_row2_col1\" class=\"data row2 col1\" >✅ Improves linearity</td>\n",
    "      <td id=\"T_9802c_row2_col2\" class=\"data row2 col2\" >✅ Fine</td>\n",
    "      <td id=\"T_9802c_row2_col3\" class=\"data row2 col3\" >✅ Great</td>\n",
    "      <td id=\"T_9802c_row2_col4\" class=\"data row2 col4\" >✅ Useful</td>\n",
    "    </tr>\n",
    "    <tr>\n",
    "      <th id=\"T_9802c_level0_row3\" class=\"row_heading level0 row3\" >3</th>\n",
    "      <td id=\"T_9802c_row3_col0\" class=\"data row3 col0\" >Ratio & Aggregate Features</td>\n",
    "      <td id=\"T_9802c_row3_col1\" class=\"data row3 col1\" >✅ Often helps</td>\n",
    "      <td id=\"T_9802c_row3_col2\" class=\"data row3 col2\" >✅ Great</td>\n",
    "      <td id=\"T_9802c_row3_col3\" class=\"data row3 col3\" >✅ Great</td>\n",
    "      <td id=\"T_9802c_row3_col4\" class=\"data row3 col4\" >✅ Very good</td>\n",
    "    </tr>\n",
    "    <tr>\n",
    "      <th id=\"T_9802c_level0_row4\" class=\"row_heading level0 row4\" >4</th>\n",
    "      <td id=\"T_9802c_row4_col0\" class=\"data row4 col0\" >Requires Categorical Encoding</td>\n",
    "      <td id=\"T_9802c_row4_col1\" class=\"data row4 col1\" >✅ Required</td>\n",
    "      <td id=\"T_9802c_row4_col2\" class=\"data row4 col2\" >✅ Optional</td>\n",
    "      <td id=\"T_9802c_row4_col3\" class=\"data row4 col3\" >✅ Optional</td>\n",
    "      <td id=\"T_9802c_row4_col4\" class=\"data row4 col4\" >✅ Required</td>\n",
    "    </tr>\n",
    "    <tr>\n",
    "      <th id=\"T_9802c_level0_row5\" class=\"row_heading level0 row5\" >5</th>\n",
    "      <td id=\"T_9802c_row5_col0\" class=\"data row5 col0\" >Requires Scaling</td>\n",
    "      <td id=\"T_9802c_row5_col1\" class=\"data row5 col1\" >✅ Yes</td>\n",
    "      <td id=\"T_9802c_row5_col2\" class=\"data row5 col2\" >❌ Not needed</td>\n",
    "      <td id=\"T_9802c_row5_col3\" class=\"data row5 col3\" >❌ Not needed</td>\n",
    "      <td id=\"T_9802c_row5_col4\" class=\"data row5 col4\" >✅ Yes</td>\n",
    "    </tr>\n",
    "  </tbody>\n",
    "</table>"
   ]
  },
  {
   "cell_type": "markdown",
   "id": "c8f55ff4",
   "metadata": {},
   "source": [
    "<style type=\"text/css\">\n",
    "#T_22d9a th {\n",
    "  background-color: #2a2a2e;\n",
    "  color: white;\n",
    "  text-align: center;\n",
    "}\n",
    "#T_22d9a td {\n",
    "  text-align: left;\n",
    "}\n",
    "#T_22d9a_row0_col0, #T_22d9a_row0_col1, #T_22d9a_row0_col2, #T_22d9a_row1_col0, #T_22d9a_row1_col1, #T_22d9a_row1_col2, #T_22d9a_row2_col0, #T_22d9a_row2_col1, #T_22d9a_row2_col2, #T_22d9a_row3_col0, #T_22d9a_row3_col1, #T_22d9a_row3_col2, #T_22d9a_row4_col0, #T_22d9a_row4_col1, #T_22d9a_row4_col2 {\n",
    "  border: 1px solid gray;\n",
    "}\n",
    "</style>\n",
    "<table id=\"T_22d9a\">\n",
    "  <caption>Why and Where Each Feature Engineering Technique Is Useful</caption>\n",
    "  <thead>\n",
    "    <tr>\n",
    "      <th class=\"blank level0\" >&nbsp;</th>\n",
    "      <th id=\"T_22d9a_level0_col0\" class=\"col_heading level0 col0\" >Feature Type</th>\n",
    "      <th id=\"T_22d9a_level0_col1\" class=\"col_heading level0 col1\" >Why It's Useful</th>\n",
    "      <th id=\"T_22d9a_level0_col2\" class=\"col_heading level0 col2\" >Needed For</th>\n",
    "    </tr>\n",
    "  </thead>\n",
    "  <tbody>\n",
    "    <tr>\n",
    "      <th id=\"T_22d9a_level0_row0\" class=\"row_heading level0 row0\" >0</th>\n",
    "      <td id=\"T_22d9a_row0_col0\" class=\"data row0 col0\" >Encoding Categoricals</td>\n",
    "      <td id=\"T_22d9a_row0_col1\" class=\"data row0 col1\" >Converts labels to usable format</td>\n",
    "      <td id=\"T_22d9a_row0_col2\" class=\"data row0 col2\" >LogReg, DL</td>\n",
    "    </tr>\n",
    "    <tr>\n",
    "      <th id=\"T_22d9a_level0_row1\" class=\"row_heading level0 row1\" >1</th>\n",
    "      <td id=\"T_22d9a_row1_col0\" class=\"data row1 col0\" >Interaction Features</td>\n",
    "      <td id=\"T_22d9a_row1_col1\" class=\"data row1 col1\" >Captures nonlinear relationships</td>\n",
    "      <td id=\"T_22d9a_row1_col2\" class=\"data row1 col2\" >All models</td>\n",
    "    </tr>\n",
    "    <tr>\n",
    "      <th id=\"T_22d9a_level0_row2\" class=\"row_heading level0 row2\" >2</th>\n",
    "      <td id=\"T_22d9a_row2_col0\" class=\"data row2 col0\" >Ratio/Aggregate</td>\n",
    "      <td id=\"T_22d9a_row2_col1\" class=\"data row2 col1\" >Creates informative summaries</td>\n",
    "      <td id=\"T_22d9a_row2_col2\" class=\"data row2 col2\" >All models</td>\n",
    "    </tr>\n",
    "    <tr>\n",
    "      <th id=\"T_22d9a_level0_row3\" class=\"row_heading level0 row3\" >3</th>\n",
    "      <td id=\"T_22d9a_row3_col0\" class=\"data row3 col0\" >Scaling</td>\n",
    "      <td id=\"T_22d9a_row3_col1\" class=\"data row3 col1\" >Prevents skew in distance-based methods</td>\n",
    "      <td id=\"T_22d9a_row3_col2\" class=\"data row3 col2\" >LogReg, DL</td>\n",
    "    </tr>\n",
    "    <tr>\n",
    "      <th id=\"T_22d9a_level0_row4\" class=\"row_heading level0 row4\" >4</th>\n",
    "      <td id=\"T_22d9a_row4_col0\" class=\"data row4 col0\" >Binning/Flags (optional)</td>\n",
    "      <td id=\"T_22d9a_row4_col1\" class=\"data row4 col1\" >Increases interpretability, simplifies complexity</td>\n",
    "      <td id=\"T_22d9a_row4_col2\" class=\"data row4 col2\" >All models (optional)</td>\n",
    "    </tr>\n",
    "  </tbody>\n",
    "</table>"
   ]
  },
  {
   "cell_type": "markdown",
   "id": "8ff142b0",
   "metadata": {},
   "source": [
    "### 1.      Encoding Categorical Variables\n",
    "-   Label Encoding (for ordinal data)\n",
    "-   One-Hot Encoding (for nominal data)"
   ]
  },
  {
   "cell_type": "markdown",
   "id": "22c51ea9",
   "metadata": {},
   "source": [
    "### 2.     Scaling Numerical Features\n",
    "-   StandardScaler, MinMaxScaler, or RobustScaler\n",
    "-   (Important for Logistic Regression & Deep Learning)"
   ]
  },
  {
   "cell_type": "markdown",
   "id": "67d68d18",
   "metadata": {},
   "source": [
    "### 3.     Binning\n",
    "-   Converting numerical features into categorical bins (e.g. age groups)"
   ]
  },
  {
   "cell_type": "markdown",
   "id": "ea4ad8de",
   "metadata": {},
   "source": [
    "### 4.     Interaction Features\n",
    "*Waldo*\n",
    "-   Multiplying or combining features to capture interactions\n",
    "-   E.g., StudyTimeWeekly * ParentalSupport"
   ]
  },
  {
   "cell_type": "markdown",
   "id": "3d6e6803",
   "metadata": {},
   "source": [
    "### 5.     Ratio and Aggregate Features\n",
    "*Waldo*\n",
    "-   Creating ratios like StudyTimeWeekly / Absences\n",
    "-   Aggregates like TotalExtracurricular = Sports + Music + Volunteering"
   ]
  },
  {
   "cell_type": "markdown",
   "id": "0406598c",
   "metadata": {},
   "source": [
    "### 6.     Polynomial Features\n",
    "-   Squared/cubed versions of features (mostly for linear models)"
   ]
  },
  {
   "cell_type": "markdown",
   "id": "cd99aba7",
   "metadata": {},
   "source": [
    "### 7.     Feature Selection / Dimensionality Reduction\n",
    "-   Using techniques like PCA, SelectKBest, or feature importance to reduce inputs"
   ]
  },
  {
   "cell_type": "markdown",
   "id": "c03bee56",
   "metadata": {},
   "source": [
    "### 8.     Domain-Specific Features\n",
    "-   Custom logic based on domain knowledge, e.g., a “high risk” flag for absences > 20"
   ]
  },
  {
   "cell_type": "markdown",
   "id": "7768a0c0",
   "metadata": {},
   "source": [
    "# --------------------------------------------------------\n",
    "## 9. 🤖 Model Building: Part 1 (Baseline ML Models)\n",
    "Try classic algorithms (LogReg, RF, XGBoost).\n",
    "\n",
    "follow steps\n",
    "-   train models\n",
    "-   evaluate using metrics from step 7."
   ]
  },
  {
   "cell_type": "markdown",
   "id": "6adeb282",
   "metadata": {},
   "source": [
    "### i.    Logistic Regression"
   ]
  },
  {
   "cell_type": "markdown",
   "id": "eab913f1",
   "metadata": {},
   "source": [
    "### ii.    Random Forest"
   ]
  },
  {
   "cell_type": "markdown",
   "id": "bb992a1d",
   "metadata": {},
   "source": [
    "### iii.    XGBoost"
   ]
  },
  {
   "cell_type": "markdown",
   "id": "ac40a39e",
   "metadata": {},
   "source": [
    "# --------------------------------------------------------\n",
    "## 10. 🤖 Model Building: Part 2 (Deep Learning)\n",
    "*Erin*\n",
    "\n",
    "Build and train a neural network."
   ]
  },
  {
   "cell_type": "markdown",
   "id": "67a801cd",
   "metadata": {},
   "source": [
    "# --------------------------------------------------------\n",
    "## 11. 🚀 Model Deployment – Dash App\n",
    "*Erin*\n",
    "\n",
    "Bring it to life in a web app."
   ]
  },
  {
   "cell_type": "code",
   "execution_count": null,
   "id": "bb1593e4",
   "metadata": {},
   "outputs": [],
   "source": [
    "import dash\n",
    "from dash import html, dcc\n",
    "app = dash.Dash(__name__)\n",
    "app.layout = html.Div([...])\n",
    "app.run_server(debug=True)"
   ]
  }
 ],
 "metadata": {
  "kernelspec": {
   "display_name": "Python 3",
   "language": "python",
   "name": "python3"
  },
  "language_info": {
   "codemirror_mode": {
    "name": "ipython",
    "version": 3
   },
   "file_extension": ".py",
   "mimetype": "text/x-python",
   "name": "python",
   "nbconvert_exporter": "python",
   "pygments_lexer": "ipython3",
   "version": "3.11.9"
  }
 },
 "nbformat": 4,
 "nbformat_minor": 5
}

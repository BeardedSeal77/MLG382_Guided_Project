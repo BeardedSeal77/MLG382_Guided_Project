{
 "cells": [
  {
   "cell_type": "markdown",
   "id": "8e2ec500",
   "metadata": {},
   "source": [
    "## 1. 📘 Business Understanding\n"
   ]
  },
  {
   "cell_type": "markdown",
   "id": "8654019a",
   "metadata": {},
   "source": [
    "\n",
    "**Goal:** To empower students through personalized education and early academic interventions,\n",
    "ensuring that every learner reaches their full potential.\n",
    "\n",
    "## Problem statement\n",
    "\n",
    "BrightPath Academy faces some challenges that cause them to not be able to fully support each student such as:\n",
    "\n",
    "- **Delayed identification of At-Risk Students:** BrightPath does not have access to a system that gives them real-time insights to the students who are struggling academically so they are not able to intervene in time.\n",
    "\n",
    "- **No individual support strategies:** Educators don't have access to a tool that are able to identify the reason for why exactly a specific student is struggling.\n",
    "\n",
    "- **Unknown effect of Extracurricular activities:** At BrightPath extracurricular involvement is encourage but educators are now unsure if extracurricular activities are the cause of poor academic performance. They want to identify whether this is the cause for poor academic performance.\n",
    "\n",
    "- **No centralized system for actionable insights:** BrightPath has access to a lot of student data but no system that has the ability to analyze and understand the data.\n",
    "\n",
    "## Hypotheses\n",
    "\n",
    "The following hypotheses will guide our data exploration and modeling:\n",
    "\n",
    "1. **Study Time and GradeClass**: There is a negative correlation between weekly study time (**StudyTimeWeekly**) and **GradeClass**, for example students who study more hours per week tend to have better grade classifications (lower GradeClass values, e.g., 'A' or 'B').\n",
    "\n",
    "2. **Absences and GradeClass**: There is a positive correlation between the number of absences (**Absences**) and **GradeClass**, indicating that students with more absences are likely to have weaker grade classifications (higher GradeClass values, e.g., 'D' or 'F').\n",
    "\n",
    "3. **Tutoring and GradeClass**: Tutoring status (**Tutoring**) is associated with **GradeClass** though it is difficult to know to what extent as the level of quality of the tutoring is not known, thus this will be explored further in the data analysis phase. \n",
    "\n",
    "4. **Parental Support and GradeClass**: There is a negative correlation between the level of parental support (**ParentalSupport**) and **GradeClass**, suggesting that higher parental support is linked to better grade classifications.\n",
    "\n",
    "5. **Extracurricular Activities and GradeClass**: Participation in extracurricular activities (**Extracurricular**) is associated with better **GradeClass**, thus showing a positive impact of these activities on academic performance.\n",
    "\n",
    "6. **Ethnicity and GradeClass**: There are significant differences in **GradeClass** distributions across different ethnicity groups (**Ethnicity**).\n",
    "\n",
    "7. **Gender and GradeClass**: There are differences in **GradeClass** between male and female students (**Gender**).\n",
    "\n",
    "8. **Parental Education and GradeClass**: There is a negative correlation between parental education level (**ParentalEducation**) and **GradeClass**, indicating that students with parents who have higher education levels are more likely to have better grade classifications.\n",
    "\n",
    "These hypotheses will be tested and refined during the data analysis phase to uncover key factors influencing student performance, with a  focus on the role of extracurricular activities as mentioned in the problem statement\n",
    "\n",
    "\n",
    "## Data Science Objective:\n",
    "\n",
    "To address these above problems, the objective is to develop a classification model(s) that predicts students' Grade Grade class (derived from GPA—using data) based on demographics, study habits, parental involvement, and extracurricular activities. This model will allow for early detection of students at risk of poor academic performance (e.g., those likely to fall into 'D' or 'F' categories), allowing for timely and targeted interventions.\n",
    "\n",
    "## Machine learning models that we are going to be implementing:\n",
    "\n",
    "- Logistic Regression\n",
    "- Random Forest\n",
    "- XGBoost\n",
    "- Deep Learning classification algorithm\n",
    "\n",
    "\n",
    "\n",
    "\n"
   ]
  },
  {
   "cell_type": "code",
   "execution_count": null,
   "id": "3e5e0ce3",
   "metadata": {},
   "outputs": [
    {
     "name": "stdout",
     "output_type": "stream",
     "text": [
      "<class 'pandas.core.frame.DataFrame'>\n",
      "RangeIndex: 2392 entries, 0 to 2391\n",
      "Data columns (total 15 columns):\n",
      " #   Column             Non-Null Count  Dtype  \n",
      "---  ------             --------------  -----  \n",
      " 0   StudentID          2392 non-null   int64  \n",
      " 1   Age                2392 non-null   int64  \n",
      " 2   Gender             2392 non-null   int64  \n",
      " 3   Ethnicity          2392 non-null   int64  \n",
      " 4   ParentalEducation  2392 non-null   int64  \n",
      " 5   StudyTimeWeekly    2392 non-null   float64\n",
      " 6   Absences           2392 non-null   int64  \n",
      " 7   Tutoring           2392 non-null   int64  \n",
      " 8   ParentalSupport    2392 non-null   int64  \n",
      " 9   Extracurricular    2392 non-null   int64  \n",
      " 10  Sports             2392 non-null   int64  \n",
      " 11  Music              2392 non-null   int64  \n",
      " 12  Volunteering       2392 non-null   int64  \n",
      " 13  GPA                2392 non-null   float64\n",
      " 14  GradeClass         2392 non-null   float64\n",
      "dtypes: float64(3), int64(12)\n",
      "memory usage: 280.4 KB\n"
     ]
    }
   ],
   "source": []
  },
  {
   "cell_type": "code",
   "execution_count": null,
   "id": "8ac888fa",
   "metadata": {},
   "outputs": [],
   "source": []
  }
 ],
 "metadata": {
  "kernelspec": {
   "display_name": "Python 3 (ipykernel)",
   "language": "python",
   "name": "python3"
  }
 },
 "nbformat": 4,
 "nbformat_minor": 5
}

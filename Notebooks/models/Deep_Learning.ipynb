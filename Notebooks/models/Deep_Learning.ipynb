{
 "cells": [
  {
   "cell_type": "markdown",
   "id": "cc02c99f",
   "metadata": {},
   "source": [
    "# Deep Learning Model"
   ]
  },
  {
   "cell_type": "markdown",
   "id": "272f3714",
   "metadata": {},
   "source": [
    "# --------------------------------------------------------\n",
    "## 1) Import packages"
   ]
  },
  {
   "cell_type": "code",
   "execution_count": 1,
   "id": "a3389096",
   "metadata": {},
   "outputs": [],
   "source": [
    "import pandas as pd\n",
    "import numpy as np\n",
    "\n",
    "import os\n",
    "import matplotlib.pyplot as plt\n",
    "import seaborn as sns\n",
    "\n",
    "from sklearn.model_selection import train_test_split\n",
    "from sklearn.metrics import accuracy_score, precision_score, recall_score, f1_score, confusion_matrix, classification_report\n",
    "\n",
    "import tensorflow as tf\n",
    "from tensorflow import keras\n",
    "from keras.models import Sequential\n",
    "from keras.layers import Dense, Dropout\n",
    "from keras_tuner.tuners import RandomSearch\n",
    "\n",
    "\n",
    "# pip install tensorflow\n",
    "# pip install keras\n",
    "# pip install keras-tuner"
   ]
  },
  {
   "cell_type": "markdown",
   "id": "c22161cf",
   "metadata": {},
   "source": [
    "# --------------------------------------------------------\n",
    "## 2) Load Dataset"
   ]
  },
  {
   "cell_type": "code",
   "execution_count": 2,
   "id": "1cfe7032",
   "metadata": {},
   "outputs": [
    {
     "data": {
      "text/html": [
       "<div>\n",
       "<style scoped>\n",
       "    .dataframe tbody tr th:only-of-type {\n",
       "        vertical-align: middle;\n",
       "    }\n",
       "\n",
       "    .dataframe tbody tr th {\n",
       "        vertical-align: top;\n",
       "    }\n",
       "\n",
       "    .dataframe thead th {\n",
       "        text-align: right;\n",
       "    }\n",
       "</style>\n",
       "<table border=\"1\" class=\"dataframe\">\n",
       "  <thead>\n",
       "    <tr style=\"text-align: right;\">\n",
       "      <th></th>\n",
       "      <th>Age</th>\n",
       "      <th>Gender</th>\n",
       "      <th>ParentalEducation</th>\n",
       "      <th>StudyTimeWeekly</th>\n",
       "      <th>Absences</th>\n",
       "      <th>Tutoring</th>\n",
       "      <th>ParentalSupport</th>\n",
       "      <th>Extracurricular</th>\n",
       "      <th>Sports</th>\n",
       "      <th>Music</th>\n",
       "      <th>Volunteering</th>\n",
       "      <th>GradeClass</th>\n",
       "    </tr>\n",
       "  </thead>\n",
       "  <tbody>\n",
       "    <tr>\n",
       "      <th>0</th>\n",
       "      <td>0.472919</td>\n",
       "      <td>0.978492</td>\n",
       "      <td>0.253711</td>\n",
       "      <td>1.780336</td>\n",
       "      <td>-0.890822</td>\n",
       "      <td>1.522371</td>\n",
       "      <td>-0.108744</td>\n",
       "      <td>-0.788476</td>\n",
       "      <td>-0.660132</td>\n",
       "      <td>2.019544</td>\n",
       "      <td>-0.431866</td>\n",
       "      <td>2.0</td>\n",
       "    </tr>\n",
       "    <tr>\n",
       "      <th>1</th>\n",
       "      <td>1.362944</td>\n",
       "      <td>-1.021981</td>\n",
       "      <td>-0.746087</td>\n",
       "      <td>0.997376</td>\n",
       "      <td>-1.717694</td>\n",
       "      <td>-0.656870</td>\n",
       "      <td>-0.999551</td>\n",
       "      <td>-0.788476</td>\n",
       "      <td>-0.660132</td>\n",
       "      <td>-0.495161</td>\n",
       "      <td>-0.431866</td>\n",
       "      <td>1.0</td>\n",
       "    </tr>\n",
       "    <tr>\n",
       "      <th>2</th>\n",
       "      <td>-1.307132</td>\n",
       "      <td>-1.021981</td>\n",
       "      <td>1.253509</td>\n",
       "      <td>-0.984045</td>\n",
       "      <td>1.353542</td>\n",
       "      <td>-0.656870</td>\n",
       "      <td>-0.108744</td>\n",
       "      <td>-0.788476</td>\n",
       "      <td>-0.660132</td>\n",
       "      <td>-0.495161</td>\n",
       "      <td>-0.431866</td>\n",
       "      <td>4.0</td>\n",
       "    </tr>\n",
       "    <tr>\n",
       "      <th>3</th>\n",
       "      <td>0.472919</td>\n",
       "      <td>0.978492</td>\n",
       "      <td>1.253509</td>\n",
       "      <td>0.045445</td>\n",
       "      <td>-0.063951</td>\n",
       "      <td>-0.656870</td>\n",
       "      <td>0.782063</td>\n",
       "      <td>1.268269</td>\n",
       "      <td>-0.660132</td>\n",
       "      <td>-0.495161</td>\n",
       "      <td>-0.431866</td>\n",
       "      <td>3.0</td>\n",
       "    </tr>\n",
       "    <tr>\n",
       "      <th>4</th>\n",
       "      <td>0.472919</td>\n",
       "      <td>0.978492</td>\n",
       "      <td>0.253711</td>\n",
       "      <td>-0.902311</td>\n",
       "      <td>0.290422</td>\n",
       "      <td>1.522371</td>\n",
       "      <td>0.782063</td>\n",
       "      <td>-0.788476</td>\n",
       "      <td>-0.660132</td>\n",
       "      <td>-0.495161</td>\n",
       "      <td>-0.431866</td>\n",
       "      <td>4.0</td>\n",
       "    </tr>\n",
       "  </tbody>\n",
       "</table>\n",
       "</div>"
      ],
      "text/plain": [
       "        Age    Gender  ParentalEducation  StudyTimeWeekly  Absences  Tutoring  \\\n",
       "0  0.472919  0.978492           0.253711         1.780336 -0.890822  1.522371   \n",
       "1  1.362944 -1.021981          -0.746087         0.997376 -1.717694 -0.656870   \n",
       "2 -1.307132 -1.021981           1.253509        -0.984045  1.353542 -0.656870   \n",
       "3  0.472919  0.978492           1.253509         0.045445 -0.063951 -0.656870   \n",
       "4  0.472919  0.978492           0.253711        -0.902311  0.290422  1.522371   \n",
       "\n",
       "   ParentalSupport  Extracurricular    Sports     Music  Volunteering  \\\n",
       "0        -0.108744        -0.788476 -0.660132  2.019544     -0.431866   \n",
       "1        -0.999551        -0.788476 -0.660132 -0.495161     -0.431866   \n",
       "2        -0.108744        -0.788476 -0.660132 -0.495161     -0.431866   \n",
       "3         0.782063         1.268269 -0.660132 -0.495161     -0.431866   \n",
       "4         0.782063        -0.788476 -0.660132 -0.495161     -0.431866   \n",
       "\n",
       "   GradeClass  \n",
       "0         2.0  \n",
       "1         1.0  \n",
       "2         4.0  \n",
       "3         3.0  \n",
       "4         4.0  "
      ]
     },
     "execution_count": 2,
     "metadata": {},
     "output_type": "execute_result"
    }
   ],
   "source": [
    "df = pd.read_csv(\"../../Data/Student_performance_scaled.csv\")\n",
    "\n",
    "#drop GPA column\n",
    "#df.drop(columns=['GPA'], inplace=True)\n",
    "\n",
    "df.head()"
   ]
  },
  {
   "cell_type": "markdown",
   "id": "94e5629a",
   "metadata": {},
   "source": [
    "# --------------------------------------------------------\n",
    "## 3) Feature Engineering"
   ]
  },
  {
   "cell_type": "markdown",
   "id": "0b8e01d6",
   "metadata": {},
   "source": [
    "#### i) Encoding Categorical Variables: "
   ]
  },
  {
   "cell_type": "code",
   "execution_count": 3,
   "id": "746b958f",
   "metadata": {},
   "outputs": [],
   "source": [
    "def encode_categorical_features(df):\n",
    "    # all features are already scaled, so return unchanged.\n",
    "    return df"
   ]
  },
  {
   "cell_type": "markdown",
   "id": "6a0d8f1b",
   "metadata": {},
   "source": [
    "#### ii) Ratio & Aggregate Features: \n",
    "\n",
    "adds new features in the for of ratios\n",
    "\n",
    "`StudyAbsenceRatio` combines `StudyTimeWeekly` and `Absences`. ↑study:↓absent = ↑ratio"
   ]
  },
  {
   "cell_type": "code",
   "execution_count": 4,
   "id": "9f895d70",
   "metadata": {},
   "outputs": [],
   "source": [
    "# Create ratio-based feature(s)\n",
    "def add_ratio_features(df):\n",
    "    df = df.copy()\n",
    "    # Study Time to Absence ratio\n",
    "    df['StudyAbsenceRatio'] = df['StudyTimeWeekly'] / (df['Absences'] + 1)  # +1 to avoid division by zero\n",
    "    return df"
   ]
  },
  {
   "cell_type": "markdown",
   "id": "7eee7a7f",
   "metadata": {},
   "source": [
    "#### iii) Interaction Features:\n",
    "\n",
    "adds new features in terms of interaction\n",
    "\n",
    "`SportsMusic` multiplies `Sports` and `Music` to give an understanding into the total extra carricular activities a student takes part in\n",
    "\n",
    "`TotalSupport` adds `TotalSupport` and `Tutoring` to show total support given to a student"
   ]
  },
  {
   "cell_type": "code",
   "execution_count": 5,
   "id": "5e88ee4f",
   "metadata": {},
   "outputs": [],
   "source": [
    "#optional\n",
    "def add_interaction_features(df):\n",
    "    df = df.copy()\n",
    "    # Combining sports and music participation\n",
    "    df['SportsMusic'] = df['Sports'] * df['Music']\n",
    "    # Combined parental involvement\n",
    "    df['TotalSupport'] = df['ParentalSupport'] + df['Tutoring']\n",
    "    return df"
   ]
  },
  {
   "cell_type": "markdown",
   "id": "618a5234",
   "metadata": {},
   "source": [
    "#### iV) Apply all feature engineering:"
   ]
  },
  {
   "cell_type": "code",
   "execution_count": 6,
   "id": "22e87446",
   "metadata": {},
   "outputs": [],
   "source": [
    "def apply_feature_engineering(df):\n",
    "    df = encode_categorical_features(df)\n",
    "    df = add_ratio_features(df)\n",
    "    df = add_interaction_features(df)\n",
    "    return df"
   ]
  },
  {
   "cell_type": "markdown",
   "id": "c9846f05",
   "metadata": {},
   "source": [
    "# --------------------------------------------------------\n",
    "## 4) Prepare Data"
   ]
  },
  {
   "cell_type": "markdown",
   "id": "561c3ce2",
   "metadata": {},
   "source": [
    "`x` = features (independent variables the model learns from).\n",
    "\n",
    "`y` = target (GradeClass, the label we want the model to predict)."
   ]
  },
  {
   "cell_type": "code",
   "execution_count": 7,
   "id": "143e3ac0",
   "metadata": {},
   "outputs": [],
   "source": [
    "# Apply feature engineering\n",
    "df = apply_feature_engineering(df)\n",
    "\n",
    "# Define features and target\n",
    "X = df.drop(['GradeClass'], axis=1)\n",
    "y = df['GradeClass']\n",
    "\n",
    "# Split the data into train and test sets (ensure y_test is defined)\n",
    "X_train, X_test, y_train, y_test = train_test_split(\n",
    "    X, y, test_size=0.2, random_state=42, stratify=y\n",
    ")"
   ]
  },
  {
   "cell_type": "markdown",
   "id": "c12b8c8a",
   "metadata": {},
   "source": [
    "# --------------------------------------------------------\n",
    "## 5) Build model and set up tuner"
   ]
  },
  {
   "cell_type": "markdown",
   "id": "dc7d0e66",
   "metadata": {},
   "source": [
    "using the sequential keras model\n",
    "\n",
    "Model: https://keras.io/api/models/sequential/\n",
    "\n",
    "Explained: https://www.geeksforgeeks.org/keras-sequential-class/"
   ]
  },
  {
   "cell_type": "code",
   "execution_count": 8,
   "id": "c7e4e3dd",
   "metadata": {},
   "outputs": [],
   "source": [
    "def build_model(hp):\n",
    "    model = Sequential()\n",
    "    model.add(Dense(units=hp.Int('units1', min_value=32, max_value=256, step=32), activation='relu', input_shape=(X_train.shape[1],)))\n",
    "    model.add(Dropout(rate=hp.Float('dropout1', min_value=0.0, max_value=0.5, step=0.1)))\n",
    "    \n",
    "    model.add(Dense(units=hp.Int('units2', min_value=32, max_value=256, step=32), activation='relu'))\n",
    "    model.add(Dropout(rate=hp.Float('dropout2', min_value=0.0, max_value=0.5, step=0.1)))\n",
    "\n",
    "    model.add(Dense(5, activation='softmax'))  # 5 classes for GradeClass\n",
    "\n",
    "    model.compile(optimizer='adam',\n",
    "                  loss='sparse_categorical_crossentropy',\n",
    "                  metrics=['accuracy'])\n",
    "    return model\n"
   ]
  },
  {
   "cell_type": "markdown",
   "id": "a1ce6b23",
   "metadata": {},
   "source": [
    "keras tuner:\n",
    "\n",
    "https://keras.io/keras_tuner/api/tuners/random/\n",
    "\n",
    "automatically searches for the best hyperparameters for the deep learning model instead of using a grid or manual methods.\n",
    "\n",
    "It works by:\n",
    "1) Randomly picks different combinations of settings.\n",
    "2) Trains a model with each.\n",
    "3) Picks the best based on a metric specified (`objective` = `'val_accuracy'`).\n",
    "\n",
    "Settings it tries in the script:\n",
    "\n",
    "`units1`, `units2`: Neurons in 1st and 2nd layers (32 to 256).\n",
    "\n",
    "`dropout1`, `dropout2`: Dropout rates (0 to 0.5)."
   ]
  },
  {
   "cell_type": "code",
   "execution_count": 9,
   "id": "a6384841",
   "metadata": {},
   "outputs": [
    {
     "name": "stdout",
     "output_type": "stream",
     "text": [
      "Reloading Tuner from ../../Tuners/student_tuner\\grade_classification\\tuner0.json\n"
     ]
    }
   ],
   "source": [
    "# Keras Tuner\n",
    "tuner = RandomSearch(\n",
    "    hypermodel=build_model,\n",
    "    objective='val_accuracy',\n",
    "    max_trials=10,\n",
    "    seed=42,\n",
    "    directory='../../Tuners/student_tuner',\n",
    "    project_name='grade_classification'\n",
    ")\n",
    "\n",
    "tuner.search(X_train, y_train, epochs=20, validation_split=0.2)"
   ]
  },
  {
   "cell_type": "markdown",
   "id": "146009a3",
   "metadata": {},
   "source": [
    "# --------------------------------------------------------\n",
    "## 6) Choose the best model and run predictions\n",
    "\n",
    "Best model = the one that scored highest on validation accuracy during tuner search.\n",
    "\n",
    "Fit the best model again on full training data (20 epochs).\n",
    "\n",
    "Uuse it to predict the classes for X_test."
   ]
  },
  {
   "cell_type": "code",
   "execution_count": 10,
   "id": "ce806a82",
   "metadata": {},
   "outputs": [
    {
     "name": "stdout",
     "output_type": "stream",
     "text": [
      "WARNING:tensorflow:From c:\\Program Files\\Python311\\Lib\\site-packages\\keras\\src\\backend\\common\\global_state.py:82: The name tf.reset_default_graph is deprecated. Please use tf.compat.v1.reset_default_graph instead.\n",
      "\n",
      "Epoch 1/20\n"
     ]
    },
    {
     "name": "stderr",
     "output_type": "stream",
     "text": [
      "c:\\Program Files\\Python311\\Lib\\site-packages\\keras\\src\\layers\\core\\dense.py:87: UserWarning: Do not pass an `input_shape`/`input_dim` argument to a layer. When using Sequential models, prefer using an `Input(shape)` object as the first layer in the model instead.\n",
      "  super().__init__(activity_regularizer=activity_regularizer, **kwargs)\n",
      "c:\\Program Files\\Python311\\Lib\\site-packages\\keras\\src\\saving\\saving_lib.py:757: UserWarning: Skipping variable loading for optimizer 'adam', because it has 2 variables whereas the saved optimizer has 14 variables. \n",
      "  saveable.load_own_variables(weights_store.get(inner_path))\n"
     ]
    },
    {
     "name": "stdout",
     "output_type": "stream",
     "text": [
      "\u001b[1m48/48\u001b[0m \u001b[32m━━━━━━━━━━━━━━━━━━━━\u001b[0m\u001b[37m\u001b[0m \u001b[1m1s\u001b[0m 4ms/step - accuracy: 0.7846 - loss: 0.6528 - val_accuracy: 0.7154 - val_loss: 0.8478\n",
      "Epoch 2/20\n",
      "\u001b[1m48/48\u001b[0m \u001b[32m━━━━━━━━━━━━━━━━━━━━\u001b[0m\u001b[37m\u001b[0m \u001b[1m0s\u001b[0m 2ms/step - accuracy: 0.7838 - loss: 0.6302 - val_accuracy: 0.7258 - val_loss: 0.8293\n",
      "Epoch 3/20\n",
      "\u001b[1m48/48\u001b[0m \u001b[32m━━━━━━━━━━━━━━━━━━━━\u001b[0m\u001b[37m\u001b[0m \u001b[1m0s\u001b[0m 2ms/step - accuracy: 0.7971 - loss: 0.6334 - val_accuracy: 0.7285 - val_loss: 0.8304\n",
      "Epoch 4/20\n",
      "\u001b[1m48/48\u001b[0m \u001b[32m━━━━━━━━━━━━━━━━━━━━\u001b[0m\u001b[37m\u001b[0m \u001b[1m0s\u001b[0m 2ms/step - accuracy: 0.8248 - loss: 0.5684 - val_accuracy: 0.7311 - val_loss: 0.8083\n",
      "Epoch 5/20\n",
      "\u001b[1m48/48\u001b[0m \u001b[32m━━━━━━━━━━━━━━━━━━━━\u001b[0m\u001b[37m\u001b[0m \u001b[1m0s\u001b[0m 2ms/step - accuracy: 0.8062 - loss: 0.6094 - val_accuracy: 0.7389 - val_loss: 0.7907\n",
      "Epoch 6/20\n",
      "\u001b[1m48/48\u001b[0m \u001b[32m━━━━━━━━━━━━━━━━━━━━\u001b[0m\u001b[37m\u001b[0m \u001b[1m0s\u001b[0m 2ms/step - accuracy: 0.8264 - loss: 0.5240 - val_accuracy: 0.7232 - val_loss: 0.8138\n",
      "Epoch 7/20\n",
      "\u001b[1m48/48\u001b[0m \u001b[32m━━━━━━━━━━━━━━━━━━━━\u001b[0m\u001b[37m\u001b[0m \u001b[1m0s\u001b[0m 2ms/step - accuracy: 0.8175 - loss: 0.5136 - val_accuracy: 0.7363 - val_loss: 0.7996\n",
      "Epoch 8/20\n",
      "\u001b[1m48/48\u001b[0m \u001b[32m━━━━━━━━━━━━━━━━━━━━\u001b[0m\u001b[37m\u001b[0m \u001b[1m0s\u001b[0m 2ms/step - accuracy: 0.8330 - loss: 0.5292 - val_accuracy: 0.7337 - val_loss: 0.8132\n",
      "Epoch 9/20\n",
      "\u001b[1m48/48\u001b[0m \u001b[32m━━━━━━━━━━━━━━━━━━━━\u001b[0m\u001b[37m\u001b[0m \u001b[1m0s\u001b[0m 2ms/step - accuracy: 0.8308 - loss: 0.5533 - val_accuracy: 0.7363 - val_loss: 0.8004\n",
      "Epoch 10/20\n",
      "\u001b[1m48/48\u001b[0m \u001b[32m━━━━━━━━━━━━━━━━━━━━\u001b[0m\u001b[37m\u001b[0m \u001b[1m0s\u001b[0m 2ms/step - accuracy: 0.8364 - loss: 0.5071 - val_accuracy: 0.7311 - val_loss: 0.8288\n",
      "Epoch 11/20\n",
      "\u001b[1m48/48\u001b[0m \u001b[32m━━━━━━━━━━━━━━━━━━━━\u001b[0m\u001b[37m\u001b[0m \u001b[1m0s\u001b[0m 2ms/step - accuracy: 0.8378 - loss: 0.5042 - val_accuracy: 0.7232 - val_loss: 0.8450\n",
      "Epoch 12/20\n",
      "\u001b[1m48/48\u001b[0m \u001b[32m━━━━━━━━━━━━━━━━━━━━\u001b[0m\u001b[37m\u001b[0m \u001b[1m0s\u001b[0m 2ms/step - accuracy: 0.8311 - loss: 0.5176 - val_accuracy: 0.7206 - val_loss: 0.8258\n",
      "Epoch 13/20\n",
      "\u001b[1m48/48\u001b[0m \u001b[32m━━━━━━━━━━━━━━━━━━━━\u001b[0m\u001b[37m\u001b[0m \u001b[1m0s\u001b[0m 2ms/step - accuracy: 0.8350 - loss: 0.4895 - val_accuracy: 0.7232 - val_loss: 0.8252\n",
      "Epoch 14/20\n",
      "\u001b[1m48/48\u001b[0m \u001b[32m━━━━━━━━━━━━━━━━━━━━\u001b[0m\u001b[37m\u001b[0m \u001b[1m0s\u001b[0m 2ms/step - accuracy: 0.8562 - loss: 0.4931 - val_accuracy: 0.7389 - val_loss: 0.8309\n",
      "Epoch 15/20\n",
      "\u001b[1m48/48\u001b[0m \u001b[32m━━━━━━━━━━━━━━━━━━━━\u001b[0m\u001b[37m\u001b[0m \u001b[1m0s\u001b[0m 2ms/step - accuracy: 0.8387 - loss: 0.4742 - val_accuracy: 0.7180 - val_loss: 0.8360\n",
      "Epoch 16/20\n",
      "\u001b[1m48/48\u001b[0m \u001b[32m━━━━━━━━━━━━━━━━━━━━\u001b[0m\u001b[37m\u001b[0m \u001b[1m0s\u001b[0m 2ms/step - accuracy: 0.8427 - loss: 0.4588 - val_accuracy: 0.7154 - val_loss: 0.8481\n",
      "Epoch 17/20\n",
      "\u001b[1m48/48\u001b[0m \u001b[32m━━━━━━━━━━━━━━━━━━━━\u001b[0m\u001b[37m\u001b[0m \u001b[1m0s\u001b[0m 2ms/step - accuracy: 0.8536 - loss: 0.4556 - val_accuracy: 0.7154 - val_loss: 0.8558\n",
      "Epoch 18/20\n",
      "\u001b[1m48/48\u001b[0m \u001b[32m━━━━━━━━━━━━━━━━━━━━\u001b[0m\u001b[37m\u001b[0m \u001b[1m0s\u001b[0m 2ms/step - accuracy: 0.8503 - loss: 0.4252 - val_accuracy: 0.7076 - val_loss: 0.8612\n",
      "Epoch 19/20\n",
      "\u001b[1m48/48\u001b[0m \u001b[32m━━━━━━━━━━━━━━━━━━━━\u001b[0m\u001b[37m\u001b[0m \u001b[1m0s\u001b[0m 2ms/step - accuracy: 0.8657 - loss: 0.4054 - val_accuracy: 0.7180 - val_loss: 0.8536\n",
      "Epoch 20/20\n",
      "\u001b[1m48/48\u001b[0m \u001b[32m━━━━━━━━━━━━━━━━━━━━\u001b[0m\u001b[37m\u001b[0m \u001b[1m0s\u001b[0m 2ms/step - accuracy: 0.8412 - loss: 0.4250 - val_accuracy: 0.7128 - val_loss: 0.8593\n",
      "\u001b[1m15/15\u001b[0m \u001b[32m━━━━━━━━━━━━━━━━━━━━\u001b[0m\u001b[37m\u001b[0m \u001b[1m0s\u001b[0m 3ms/step \n"
     ]
    }
   ],
   "source": [
    "# Get best model\n",
    "best_model = tuner.get_best_models(num_models=1)[0]\n",
    "\n",
    "# Fit on full training data\n",
    "best_model.fit(X_train, y_train, epochs=20, validation_split=0.2)\n",
    "\n",
    "# Predictions\n",
    "y_pred = np.argmax(best_model.predict(X_test), axis=1)"
   ]
  },
  {
   "cell_type": "markdown",
   "id": "82f779bd",
   "metadata": {},
   "source": [
    "# --------------------------------------------------------\n",
    "## 7) Run Evaluation Metrics"
   ]
  },
  {
   "cell_type": "markdown",
   "id": "0b3e5070",
   "metadata": {},
   "source": [
    "#### Accuracy\n",
    "\n",
    "simple measure of correctness\n",
    "\n",
    "`correct predictions` / `total predictions`"
   ]
  },
  {
   "cell_type": "code",
   "execution_count": 11,
   "id": "6e6071ef",
   "metadata": {},
   "outputs": [
    {
     "name": "stdout",
     "output_type": "stream",
     "text": [
      "Accuracy: 0.7056367432150313\n"
     ]
    }
   ],
   "source": [
    "print(\"Accuracy:\", accuracy_score(y_test, y_pred))"
   ]
  },
  {
   "cell_type": "markdown",
   "id": "709bff7a",
   "metadata": {},
   "source": [
    "#### Precision (weighted)\n",
    "\n",
    "how many predictions were actually correct\n",
    "\n",
    "weighted adjusts for class imbalance"
   ]
  },
  {
   "cell_type": "code",
   "execution_count": 12,
   "id": "63aa073d",
   "metadata": {},
   "outputs": [
    {
     "name": "stdout",
     "output_type": "stream",
     "text": [
      "Precision: 0.7064131109286844\n"
     ]
    }
   ],
   "source": [
    "print(\"Precision:\", precision_score(y_test, y_pred, average='weighted'))"
   ]
  },
  {
   "cell_type": "markdown",
   "id": "9024e94d",
   "metadata": {},
   "source": [
    "#### Recall (weighted)\n",
    "\n",
    "how many labels were correctly predicted?\n",
    "\n",
    "weighted adjusts for class imbalance"
   ]
  },
  {
   "cell_type": "code",
   "execution_count": 13,
   "id": "53fb7043",
   "metadata": {},
   "outputs": [
    {
     "name": "stdout",
     "output_type": "stream",
     "text": [
      "Recall: 0.7056367432150313\n"
     ]
    }
   ],
   "source": [
    "print(\"Recall:\", recall_score(y_test, y_pred, average='weighted'))"
   ]
  },
  {
   "cell_type": "markdown",
   "id": "b54d4ebf",
   "metadata": {},
   "source": [
    "#### F1 Score (weighted)\n",
    "\n",
    "harmonic mean of precision and recall\n",
    "\n",
    "weighted adjusts for class imbalance"
   ]
  },
  {
   "cell_type": "code",
   "execution_count": 14,
   "id": "e1e37409",
   "metadata": {},
   "outputs": [
    {
     "name": "stdout",
     "output_type": "stream",
     "text": [
      "F1 Score: 0.7033754138231846\n"
     ]
    }
   ],
   "source": [
    "print(\"F1 Score:\", f1_score(y_test, y_pred, average='weighted'))"
   ]
  },
  {
   "cell_type": "markdown",
   "id": "ec46a7f4",
   "metadata": {},
   "source": [
    "#### Confusion Matrix\n",
    "\n",
    "shows real vs predicted class counts"
   ]
  },
  {
   "cell_type": "code",
   "execution_count": 15,
   "id": "25641551",
   "metadata": {},
   "outputs": [
    {
     "name": "stdout",
     "output_type": "stream",
     "text": [
      "\n",
      "Confusion Matrix:\n",
      " [[  4   7   0   5   5]\n",
      " [  9  21  19   3   2]\n",
      " [  1   7  49  20   1]\n",
      " [  0   1  21  47  14]\n",
      " [  1   3   2  20 217]]\n"
     ]
    }
   ],
   "source": [
    "print(\"\\nConfusion Matrix:\\n\", confusion_matrix(y_test, y_pred))"
   ]
  },
  {
   "cell_type": "markdown",
   "id": "e86e9942",
   "metadata": {},
   "source": [
    "#### Classification Report\n",
    "\n",
    "breakdown of precision, recall, F1-Score per class"
   ]
  },
  {
   "cell_type": "code",
   "execution_count": 16,
   "id": "5c953573",
   "metadata": {},
   "outputs": [
    {
     "name": "stdout",
     "output_type": "stream",
     "text": [
      "\n",
      "Classification Report:\n",
      "               precision    recall  f1-score   support\n",
      "\n",
      "         0.0       0.27      0.19      0.22        21\n",
      "         1.0       0.54      0.39      0.45        54\n",
      "         2.0       0.54      0.63      0.58        78\n",
      "         3.0       0.49      0.57      0.53        83\n",
      "         4.0       0.91      0.89      0.90       243\n",
      "\n",
      "    accuracy                           0.71       479\n",
      "   macro avg       0.55      0.53      0.54       479\n",
      "weighted avg       0.71      0.71      0.70       479\n",
      "\n"
     ]
    }
   ],
   "source": [
    "print(\"\\nClassification Report:\\n\", classification_report(y_test, y_pred))"
   ]
  },
  {
   "cell_type": "markdown",
   "id": "87ff90cd",
   "metadata": {},
   "source": [
    "Metric      : Meaning\n",
    "\n",
    "Precision   : Out of all predictions for this class, how many were correct?\n",
    "\n",
    "Recall      : Out of all actual instances of this class, how many did we correctly identify?\n",
    "\n",
    "F1-Score    : Harmonic mean of Precision and Recall — balances false positives and false negatives.\n",
    "\n",
    "Support     : Number of actual test samples in each class. Shows class distribution."
   ]
  },
  {
   "cell_type": "markdown",
   "id": "5729f254",
   "metadata": {},
   "source": [
    "# --------------------------------------------------------\n",
    "## 8) Save Results"
   ]
  },
  {
   "cell_type": "code",
   "execution_count": 17,
   "id": "de0abdd4",
   "metadata": {},
   "outputs": [],
   "source": [
    "# Create necessary folders\n",
    "import os\n",
    "os.makedirs(\"../../Artifacts/models\", exist_ok=True)\n",
    "os.makedirs(\"../../Artifacts/plots\", exist_ok=True)\n",
    "os.makedirs(\"../../Artifacts/predictions\", exist_ok=True)"
   ]
  },
  {
   "cell_type": "code",
   "execution_count": 18,
   "id": "64f48e42",
   "metadata": {},
   "outputs": [
    {
     "name": "stdout",
     "output_type": "stream",
     "text": [
      "INFO:tensorflow:Assets written to: C:\\Users\\edcul\\AppData\\Local\\Temp\\tmpznmsftl4\\assets\n"
     ]
    },
    {
     "name": "stderr",
     "output_type": "stream",
     "text": [
      "INFO:tensorflow:Assets written to: C:\\Users\\edcul\\AppData\\Local\\Temp\\tmpznmsftl4\\assets\n"
     ]
    },
    {
     "name": "stdout",
     "output_type": "stream",
     "text": [
      "Saved artifact at 'C:\\Users\\edcul\\AppData\\Local\\Temp\\tmpznmsftl4'. The following endpoints are available:\n",
      "\n",
      "* Endpoint 'serve'\n",
      "  args_0 (POSITIONAL_ONLY): TensorSpec(shape=(None, 14), dtype=tf.float32, name='keras_tensor')\n",
      "Output Type:\n",
      "  TensorSpec(shape=(None, 5), dtype=tf.float32, name=None)\n",
      "Captures:\n",
      "  1557255448976: TensorSpec(shape=(), dtype=tf.resource, name=None)\n",
      "  1557254215184: TensorSpec(shape=(), dtype=tf.resource, name=None)\n",
      "  1557281313744: TensorSpec(shape=(), dtype=tf.resource, name=None)\n",
      "  1557281315664: TensorSpec(shape=(), dtype=tf.resource, name=None)\n",
      "  1557281316624: TensorSpec(shape=(), dtype=tf.resource, name=None)\n",
      "  1557281318352: TensorSpec(shape=(), dtype=tf.resource, name=None)\n"
     ]
    }
   ],
   "source": [
    "# Save TFLite model\n",
    "converter = tf.lite.TFLiteConverter.from_keras_model(best_model)\n",
    "tflite_model = converter.convert()\n",
    "with open(\"../../Artifacts/models/DL_model.tflite\", \"wb\") as f:\n",
    "    f.write(tflite_model)"
   ]
  },
  {
   "cell_type": "code",
   "execution_count": 19,
   "id": "89a3eb28",
   "metadata": {},
   "outputs": [],
   "source": [
    "# Save training stats (optional: you can log during training and save)\n",
    "# Here we'll save mean and std of X_train\n",
    "train_mean = pd.DataFrame(X_train.mean()).T\n",
    "train_std = pd.DataFrame(X_train.std()).T\n",
    "\n",
    "train_mean.to_csv(\"../../Artifacts/predictions/DL_train_mean.csv\", index=False)\n",
    "train_std.to_csv(\"../../Artifacts/predictions/DL_train_std.csv\", index=False)"
   ]
  },
  {
   "cell_type": "code",
   "execution_count": 20,
   "id": "a01a5a4a",
   "metadata": {},
   "outputs": [],
   "source": [
    "# Save confusion matrix\n",
    "conf_matrix = confusion_matrix(y_test, y_pred)\n",
    "plt.figure(figsize=(8, 6))\n",
    "sns.heatmap(conf_matrix, annot=True, fmt='d', cmap='Blues')\n",
    "plt.title('Confusion Matrix')\n",
    "plt.xlabel('Predicted')\n",
    "plt.ylabel('Actual')\n",
    "plt.tight_layout()\n",
    "plt.savefig(\"../../Artifacts/plots/DL_confusion_matrix.png\")\n",
    "plt.close()"
   ]
  },
  {
   "cell_type": "code",
   "execution_count": 21,
   "id": "a42305b0",
   "metadata": {},
   "outputs": [
    {
     "name": "stdout",
     "output_type": "stream",
     "text": [
      "Epoch 1/20\n",
      "\u001b[1m48/48\u001b[0m \u001b[32m━━━━━━━━━━━━━━━━━━━━\u001b[0m\u001b[37m\u001b[0m \u001b[1m0s\u001b[0m 3ms/step - accuracy: 0.8522 - loss: 0.4141 - val_accuracy: 0.7102 - val_loss: 0.8767\n",
      "Epoch 2/20\n",
      "\u001b[1m48/48\u001b[0m \u001b[32m━━━━━━━━━━━━━━━━━━━━\u001b[0m\u001b[37m\u001b[0m \u001b[1m0s\u001b[0m 2ms/step - accuracy: 0.8717 - loss: 0.4236 - val_accuracy: 0.7128 - val_loss: 0.8870\n",
      "Epoch 3/20\n",
      "\u001b[1m48/48\u001b[0m \u001b[32m━━━━━━━━━━━━━━━━━━━━\u001b[0m\u001b[37m\u001b[0m \u001b[1m0s\u001b[0m 2ms/step - accuracy: 0.8643 - loss: 0.3938 - val_accuracy: 0.6997 - val_loss: 0.8894\n",
      "Epoch 4/20\n",
      "\u001b[1m48/48\u001b[0m \u001b[32m━━━━━━━━━━━━━━━━━━━━\u001b[0m\u001b[37m\u001b[0m \u001b[1m0s\u001b[0m 2ms/step - accuracy: 0.8699 - loss: 0.3926 - val_accuracy: 0.7154 - val_loss: 0.8994\n",
      "Epoch 5/20\n",
      "\u001b[1m48/48\u001b[0m \u001b[32m━━━━━━━━━━━━━━━━━━━━\u001b[0m\u001b[37m\u001b[0m \u001b[1m0s\u001b[0m 2ms/step - accuracy: 0.8523 - loss: 0.3983 - val_accuracy: 0.7232 - val_loss: 0.9011\n",
      "Epoch 6/20\n",
      "\u001b[1m48/48\u001b[0m \u001b[32m━━━━━━━━━━━━━━━━━━━━\u001b[0m\u001b[37m\u001b[0m \u001b[1m0s\u001b[0m 2ms/step - accuracy: 0.8782 - loss: 0.3660 - val_accuracy: 0.7232 - val_loss: 0.9394\n",
      "Epoch 7/20\n",
      "\u001b[1m48/48\u001b[0m \u001b[32m━━━━━━━━━━━━━━━━━━━━\u001b[0m\u001b[37m\u001b[0m \u001b[1m0s\u001b[0m 2ms/step - accuracy: 0.8533 - loss: 0.3882 - val_accuracy: 0.7050 - val_loss: 0.9186\n",
      "Epoch 8/20\n",
      "\u001b[1m48/48\u001b[0m \u001b[32m━━━━━━━━━━━━━━━━━━━━\u001b[0m\u001b[37m\u001b[0m \u001b[1m0s\u001b[0m 2ms/step - accuracy: 0.8671 - loss: 0.3779 - val_accuracy: 0.7128 - val_loss: 0.9192\n",
      "Epoch 9/20\n",
      "\u001b[1m48/48\u001b[0m \u001b[32m━━━━━━━━━━━━━━━━━━━━\u001b[0m\u001b[37m\u001b[0m \u001b[1m0s\u001b[0m 2ms/step - accuracy: 0.8740 - loss: 0.3549 - val_accuracy: 0.6867 - val_loss: 0.9542\n",
      "Epoch 10/20\n",
      "\u001b[1m48/48\u001b[0m \u001b[32m━━━━━━━━━━━━━━━━━━━━\u001b[0m\u001b[37m\u001b[0m \u001b[1m0s\u001b[0m 2ms/step - accuracy: 0.8739 - loss: 0.3721 - val_accuracy: 0.7180 - val_loss: 0.9410\n",
      "Epoch 11/20\n",
      "\u001b[1m48/48\u001b[0m \u001b[32m━━━━━━━━━━━━━━━━━━━━\u001b[0m\u001b[37m\u001b[0m \u001b[1m0s\u001b[0m 2ms/step - accuracy: 0.8860 - loss: 0.3237 - val_accuracy: 0.7023 - val_loss: 0.9729\n",
      "Epoch 12/20\n",
      "\u001b[1m48/48\u001b[0m \u001b[32m━━━━━━━━━━━━━━━━━━━━\u001b[0m\u001b[37m\u001b[0m \u001b[1m0s\u001b[0m 2ms/step - accuracy: 0.8712 - loss: 0.3736 - val_accuracy: 0.7154 - val_loss: 0.9341\n",
      "Epoch 13/20\n",
      "\u001b[1m48/48\u001b[0m \u001b[32m━━━━━━━━━━━━━━━━━━━━\u001b[0m\u001b[37m\u001b[0m \u001b[1m0s\u001b[0m 2ms/step - accuracy: 0.8868 - loss: 0.3125 - val_accuracy: 0.7180 - val_loss: 0.9578\n",
      "Epoch 14/20\n",
      "\u001b[1m48/48\u001b[0m \u001b[32m━━━━━━━━━━━━━━━━━━━━\u001b[0m\u001b[37m\u001b[0m \u001b[1m0s\u001b[0m 2ms/step - accuracy: 0.8883 - loss: 0.3127 - val_accuracy: 0.7050 - val_loss: 0.9903\n",
      "Epoch 15/20\n",
      "\u001b[1m48/48\u001b[0m \u001b[32m━━━━━━━━━━━━━━━━━━━━\u001b[0m\u001b[37m\u001b[0m \u001b[1m0s\u001b[0m 2ms/step - accuracy: 0.8924 - loss: 0.3179 - val_accuracy: 0.7128 - val_loss: 0.9850\n",
      "Epoch 16/20\n",
      "\u001b[1m48/48\u001b[0m \u001b[32m━━━━━━━━━━━━━━━━━━━━\u001b[0m\u001b[37m\u001b[0m \u001b[1m0s\u001b[0m 2ms/step - accuracy: 0.8837 - loss: 0.3395 - val_accuracy: 0.7102 - val_loss: 1.0159\n",
      "Epoch 17/20\n",
      "\u001b[1m48/48\u001b[0m \u001b[32m━━━━━━━━━━━━━━━━━━━━\u001b[0m\u001b[37m\u001b[0m \u001b[1m0s\u001b[0m 2ms/step - accuracy: 0.8860 - loss: 0.3100 - val_accuracy: 0.7050 - val_loss: 1.0120\n",
      "Epoch 18/20\n",
      "\u001b[1m48/48\u001b[0m \u001b[32m━━━━━━━━━━━━━━━━━━━━\u001b[0m\u001b[37m\u001b[0m \u001b[1m0s\u001b[0m 2ms/step - accuracy: 0.8888 - loss: 0.3122 - val_accuracy: 0.7154 - val_loss: 1.0057\n",
      "Epoch 19/20\n",
      "\u001b[1m48/48\u001b[0m \u001b[32m━━━━━━━━━━━━━━━━━━━━\u001b[0m\u001b[37m\u001b[0m \u001b[1m0s\u001b[0m 2ms/step - accuracy: 0.8957 - loss: 0.3018 - val_accuracy: 0.7206 - val_loss: 1.0478\n",
      "Epoch 20/20\n",
      "\u001b[1m48/48\u001b[0m \u001b[32m━━━━━━━━━━━━━━━━━━━━\u001b[0m\u001b[37m\u001b[0m \u001b[1m0s\u001b[0m 2ms/step - accuracy: 0.8922 - loss: 0.2929 - val_accuracy: 0.7050 - val_loss: 1.0537\n"
     ]
    }
   ],
   "source": [
    "# Save training accuracy per epoch (retrain with callback to capture it)\n",
    "history = best_model.fit(X_train, y_train, epochs=20, validation_split=0.2)\n",
    "plt.figure()\n",
    "plt.plot(history.history['accuracy'], label='Train Accuracy')\n",
    "plt.plot(history.history['val_accuracy'], label='Val Accuracy')\n",
    "plt.title('Model Accuracy per Epoch')\n",
    "plt.xlabel('Epoch')\n",
    "plt.ylabel('Accuracy')\n",
    "plt.legend()\n",
    "plt.tight_layout()\n",
    "plt.savefig(\"../../Artifacts/plots/DL_accuracy_per_epoch.png\")\n",
    "plt.close()"
   ]
  }
 ],
 "metadata": {
  "kernelspec": {
   "display_name": "Python 3",
   "language": "python",
   "name": "python3"
  },
  "language_info": {
   "codemirror_mode": {
    "name": "ipython",
    "version": 3
   },
   "file_extension": ".py",
   "mimetype": "text/x-python",
   "name": "python",
   "nbconvert_exporter": "python",
   "pygments_lexer": "ipython3",
   "version": "3.11.9"
  }
 },
 "nbformat": 4,
 "nbformat_minor": 5
}
